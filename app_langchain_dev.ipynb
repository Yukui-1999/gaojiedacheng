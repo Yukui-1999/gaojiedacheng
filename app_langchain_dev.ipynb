{
 "cells": [
  {
   "cell_type": "code",
   "execution_count": 7,
   "metadata": {},
   "outputs": [],
   "source": [
    "import gradio as gr\n",
    "import re\n",
    "import subprocess\n",
    "import os\n",
    "import glob\n",
    "import json\n",
    "from openai import OpenAI\n",
    "from sklearn.feature_extraction.text import TfidfVectorizer\n",
    "from sklearn.metrics.pairwise import cosine_similarity\n",
    "from langchain import hub\n",
    "from langchain.chains import create_history_aware_retriever, create_retrieval_chain\n",
    "from langchain.chains.combine_documents import create_stuff_documents_chain\n",
    "from langchain.tools.retriever import create_retriever_tool\n",
    "from langchain_chroma import Chroma\n",
    "from langchain_community.chat_message_histories import ChatMessageHistory\n",
    "from langchain_community.document_loaders import JSONLoader\n",
    "from langchain_community.embeddings import GPT4AllEmbeddings\n",
    "from langchain_core.chat_history import BaseChatMessageHistory\n",
    "from langchain_core.messages import AIMessage, HumanMessage\n",
    "from langchain_core.output_parsers import StrOutputParser\n",
    "from langchain_core.runnables import RunnablePassthrough\n",
    "from langchain_core.runnables.history import RunnableWithMessageHistory\n",
    "from langchain_core.prompts import ChatPromptTemplate, MessagesPlaceholder\n",
    "from langchain_openai import OpenAIEmbeddings\n",
    "from langchain_openai import ChatOpenAI\n",
    "from langchain_text_splitters import RecursiveCharacterTextSplitter\n",
    "from langgraph.checkpoint.sqlite import SqliteSaver\n",
    "from langgraph.prebuilt import create_react_agent\n",
    "from _config_ import _config_\n",
    "\n",
    "os.environ[\"LANGCHAIN_TRACING_V2\"] = \"true\"\n",
    "os.environ[\"LANGCHAIN_API_KEY\"] = \"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\"\n",
    "os.environ[\"OPENAI_API_KEY\"] = \"sk-8F9n3GqEgKlV45Js7fE8Bf3285Bc47A6961035F272F3D256\"\n",
    "os.environ[\"OPENAI_API_BASE\"] = \"https://api.aiwaves.cn/v1\"\n",
    "\n",
    "\n",
    "llm = ChatOpenAI(\n",
    "    model=\"gpt-4-0125-preview\",\n",
    "    openai_api_key=os.getenv(\"OPENAI_API_KEY\"),\n",
    "    base_url=os.getenv(\"OPENAI_BASE_URL\")\n",
    ")"
   ]
  },
  {
   "cell_type": "code",
   "execution_count": 8,
   "metadata": {},
   "outputs": [],
   "source": [
    "def format_docs(docs):\n",
    "    return \"\\n\\n\".join(doc.page_content for doc in docs)\n",
    "\n",
    "\n",
    "loader = JSONLoader(\n",
    "    # file_path=latest_file,\n",
    "    file_path=_config_.dev_json_file,\n",
    "    jq_schema='.[].desc',\n",
    "    text_content=False)\n",
    "docs = loader.load()\n",
    "\n",
    "text_splitter = RecursiveCharacterTextSplitter(\n",
    "    chunk_size=1000, chunk_overlap=200)\n",
    "splits = text_splitter.split_documents(docs)\n",
    "# vectorstore = Chroma.from_documents(documents=splits, embedding=GPT4AllEmbeddings())\n",
    "vectorstore = Chroma.from_documents(documents=splits, embedding=OpenAIEmbeddings())\n",
    "retriever = vectorstore.as_retriever()"
   ]
  },
  {
   "cell_type": "code",
   "execution_count": 9,
   "metadata": {},
   "outputs": [],
   "source": [
    "# Contextualize question ###\n",
    "contextualize_q_system_prompt = (\n",
    "    \"根据对话历史和用户最新提出的问题，\"\n",
    "    \"这个问题可能涉及对话历史中的上下文。\"\n",
    "    \"请重新构造一个独立的、不依赖于对话历史即可理解的问题。\"\n",
    "    \"如果需要，请重新表述问题；如果不需要，就原样返回。\"\n",
    "    \"不要回答问题。\"\n",
    ")\n",
    "contextualize_q_prompt = ChatPromptTemplate.from_messages(\n",
    "    [\n",
    "        (\"system\", contextualize_q_system_prompt),\n",
    "        MessagesPlaceholder(\"chat_history\"),\n",
    "        (\"human\", \"{input}\"),\n",
    "    ]\n",
    ")\n",
    "history_aware_retriever = create_history_aware_retriever(\n",
    "    llm, retriever, contextualize_q_prompt\n",
    ")"
   ]
  },
  {
   "cell_type": "code",
   "execution_count": 10,
   "metadata": {},
   "outputs": [
    {
     "data": {
      "text/plain": [
       "'假设我们有2000元的预算，我们可以在重庆度过两天的旅行。首日，我们可以先去解放碑，这是重庆的地标级建筑，然后到八一好吃街品尝各式美食。下午，我们可以乘坐两江小渡，感受复古的渡轮，其费用仅为10元。随后，我们可以去龙门浩老街感受另一种风格的街道。当晚，我们可以在洪崖洞欣赏夜景，感受“千与千寻”的即视感。\\n\\n第二天，我们可以先去解放碑，然后参观鹅岭二厂和李子坝，感受重庆轻轨穿楼的独特景象。午餐我们可以在马房湾66号江湖菜或山城二十二川菜馆品尝地道的重庆菜。下午，我们可以去涂鸦一条街和磁器口，体验重庆的文化气息。晚上，我们可以在南山品尝烧烤，尝试沈姐烤鱼等特色美食。\\n\\n这个旅行计划主要集中在市区内，所以交通费用不会太高。餐饮预算可以根据个人喜好调整，但总体来说2000元的预算足以在重庆度过两天愉快的旅行。'"
      ]
     },
     "execution_count": 10,
     "metadata": {},
     "output_type": "execute_result"
    }
   ],
   "source": [
    "system_prompt = (\n",
    "    \"你是一个问答任务的助手。\"\n",
    "    \"使用以下检索到的上下文(context)片段来回答这个问题。\"\n",
    "    \"如果你不知道答案，就说你不知道。\"\n",
    "    \"\\n\\n\"\n",
    "    \"{context}\"\n",
    ")\n",
    "\n",
    "# prompt = hub.pull(\"rlm/rag-prompt\")\n",
    "# prompt = ChatPromptTemplate.from_messages(\n",
    "#     [\n",
    "#         (\"system\", system_prompt),\n",
    "#         (\"human\", \"{input}\"),\n",
    "#     ]\n",
    "# )\n",
    "qa_prompt = ChatPromptTemplate.from_messages(\n",
    "    [\n",
    "        (\"system\", system_prompt),\n",
    "        MessagesPlaceholder(\"chat_history\"),\n",
    "        (\"human\", \"{input}\"),\n",
    "    ]\n",
    ")\n",
    "\n",
    "# rag_chain = (\n",
    "#     {\"context\": retriever | format_docs, \"question\": RunnablePassthrough()}\n",
    "#     | prompt\n",
    "#     | llm\n",
    "#     | StrOutputParser()\n",
    "# )\n",
    "\n",
    "\n",
    "\n",
    "query = \"请生成一个关于重庆2天2000元预算旅游的简单描述脚本\"\n",
    "# query = f\"请生成一个关于{destination}{days}天{budget}元预算旅游的{detail_level}描述脚本\"\n",
    "\n",
    "# question_answer_chain = create_stuff_documents_chain(llm, prompt)\n",
    "# rag_chain = create_retrieval_chain(retriever, question_answer_chain)\n",
    "question_answer_chain = create_stuff_documents_chain(llm, qa_prompt)\n",
    "rag_chain = create_retrieval_chain(history_aware_retriever, question_answer_chain)\n",
    "\n",
    "### Statefully manage chat history ###\n",
    "store = {}\n",
    "\n",
    "\n",
    "def get_session_history(session_id: str) -> BaseChatMessageHistory:\n",
    "    if session_id not in store:\n",
    "        store[session_id] = ChatMessageHistory()\n",
    "    return store[session_id]\n",
    "\n",
    "\n",
    "conversational_rag_chain = RunnableWithMessageHistory(\n",
    "    rag_chain,\n",
    "    get_session_history,\n",
    "    input_messages_key=\"input\",\n",
    "    history_messages_key=\"chat_history\",\n",
    "    output_messages_key=\"answer\",\n",
    ")\n",
    "\n",
    "# response = rag_chain.invoke({\"input\": f\"{query}\"})\n",
    "# response[\"answer\"]\n",
    "conversational_rag_chain.invoke(\n",
    "    {\"input\": f\"{query}\"},\n",
    "    config={\n",
    "        \"configurable\": {\"session_id\": \"abc123\"}\n",
    "    },  # constructs a key \"abc123\" in `store`.\n",
    ")[\"answer\"]\n"
   ]
  },
  {
   "cell_type": "code",
   "execution_count": 11,
   "metadata": {},
   "outputs": [
    {
     "data": {
      "text/plain": [
       "'当然可以。如果你不想去解放碑，我们可以将它替换成鹅岭公园。鹅岭公园位于重庆市区，是一个可以欣赏到重庆全景的好地方。\\n\\n所以，首日我们可以先去鹅岭公园欣赏城市景色，然后到八一好吃街品尝各式美食。下午，我们可以乘坐两江小渡，感受复古的渡轮，其费用仅为10元。随后，我们可以去龙门浩老街感受另一种风格的街道。当晚，我们可以在洪崖洞欣赏夜景，感受“千与千寻”的即视感。\\n\\n第二天，我们可以先参观鹅岭二厂和李子坝，感受重庆轻轨穿楼的独特景象。午餐我们可以在马房湾66号江湖菜或山城二十二川菜馆品尝地道的重庆菜。下午，我们可以去涂鸦一条街和磁器口，体验重庆的文化气息。晚上，我们可以在南山品尝烧烤，尝试沈姐烤鱼等特色美食。\\n\\n这个旅行计划主要集中在市区内，所以交通费用不会太高。餐饮预算可以根据个人喜好调整，但总体来说2000元的预算足以在重庆度过两天愉快的旅行。'"
      ]
     },
     "execution_count": 11,
     "metadata": {},
     "output_type": "execute_result"
    }
   ],
   "source": [
    "conversational_rag_chain.invoke(\n",
    "    {\"input\": \"我不想去解放碑，换一个景点\"},\n",
    "    config={\"configurable\": {\"session_id\": \"abc123\"}},\n",
    ")[\"answer\"]"
   ]
  }
 ],
 "metadata": {
  "kernelspec": {
   "display_name": "travelplan",
   "language": "python",
   "name": "python3"
  },
  "language_info": {
   "codemirror_mode": {
    "name": "ipython",
    "version": 3
   },
   "file_extension": ".py",
   "mimetype": "text/x-python",
   "name": "python",
   "nbconvert_exporter": "python",
   "pygments_lexer": "ipython3",
   "version": "3.12.3"
  }
 },
 "nbformat": 4,
 "nbformat_minor": 2
}
